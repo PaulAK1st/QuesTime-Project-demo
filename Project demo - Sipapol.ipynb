{
 "cells": [
  {
   "cell_type": "code",
   "execution_count": null,
   "id": "d1e02a06-696e-4c6b-ac40-1051cfd26e36",
   "metadata": {},
   "outputs": [],
   "source": [
    "import requests\n",
    "import time\n",
    "import json\n",
    "import os\n"
   ]
  },
  {
   "cell_type": "code",
   "execution_count": null,
   "id": "79a31969-edcb-4e23-9b95-2b86b0e749e2",
   "metadata": {},
   "outputs": [],
   "source": [
    "# Register ID\n",
    "user_id = {} \n",
    "name = input(\"Please input your full name:\\n\")\n",
    "while True:\n",
    "    acc_type = input(\"Please select your type of account: customer, survey depositor, survey host.\\n\").lower()\n",
    "    if acc_type in [\"customer\", \"survey depositor\", \"survey host\"]:\n",
    "        user_id[name] = acc_type\n",
    "        break \n",
    "    else:\n",
    "        print(\"Please select valid account type: customer, survey depositor, survey host.\") \n",
    "# Create username and password\n",
    "sign_in_id = {} \n",
    "usn = input(\"Please input your username: \")\n",
    "passw = input(\"Please input your password: \")\n",
    "sign_in_id[usn] = passw\n",
    "print(\"Congratulations, now you're completely sign up!\")\n"
   ]
  },
  {
   "cell_type": "code",
   "execution_count": null,
   "id": "dadeebdd-9674-4d79-bc16-4ac2b73f4a5e",
   "metadata": {},
   "outputs": [],
   "source": [
    "# Submit survey\n",
    "input(\"Please submit survey questionnaire here.\")\n",
    "surveys = {}\n",
    "survey_title = input(\"Please input your research survey title name:\\n\")\n",
    "surveys[survey_title] = []\n",
    "while True:\n",
    "    # We will input question(s) here\n",
    "    question = input(\"Please input your research survey question. If you already input all questions, please type 'exit'.\\n\")\n",
    "    surveys[survey_title] = question\n",
    "    if question == \"exit\":\n",
    "        print(\"Thank you for submitted research survey with us!\")\n",
    "        break\n",
    "    # Let's choose question type!\n",
    "    qtype = input(\"What type of answer do you prefer? A slide bar, drop list, multiple choices, or short answer.\").lower() \n",
    "    if qtype == \"slide bar\":\n",
    "        # I will make this part later :-)\n",
    "    elif qtype == \"drop list\":\n",
    "        # I will make this part later :-)\n",
    "    elif qtype == \"multiple choices\":\n",
    "        # I will make this part later :-)\n",
    "    elif qtype == \"short answer\":\n",
    "        # I will make this part later :-)\n",
    "    else: \n",
    "        qtype = input(\"Invalid question type, pleash choose from slide bar, drop list, multiple choices, or short answer.\").lower()     \n",
    "    surveys[survey_title][question] = qtype # Not sure, I will fix this again after finish above question type\n",
    "print(\"Your successfully created research survey!\")\n",
    "print(surveys)"
   ]
  },
  {
   "cell_type": "code",
   "execution_count": null,
   "id": "33eb95d2-9322-4f85-8e54-981b148d84f2",
   "metadata": {},
   "outputs": [],
   "source": [
    "# Register to be a survey host \n",
    "print(\"Please register to be a survey host here.\")\n",
    "host = {}\n",
    "host_name = input(\"Please tell your place name:\\n\")\n",
    "host[host_name] = {\"location\": [], \"reward\": []}\n",
    "while True:\n",
    "    # We weill input location(s) of survey host here\n",
    "    host_location = input(\"Please tell your location address.\\n\") # I am intended to add GPS location here, I will figure this out later\n",
    "    host[location] = host_location\n",
    "    more_location = input(\"Do you have another branches to add? If not, type \"no\".\").lower()\n",
    "    if more_location == \"no\":\n",
    "        break\n",
    "    else:\n",
    "        more_location = input(\"Do you have another branches to add? If not, type \"no\".\").lower()\n",
    "    # Survey taking and get reward as an exchange!\n",
    "    host_reward = input(\"What type of reward(s) do you willing to give? A discount, gift, or other?\".lower()\n",
    "    host[host_name][host_reward] = reward\n",
    "    if host_reward == \"discount\":\n",
    "        # I will make this part later :-)\n",
    "    elif host_reward == \"gift\":\n",
    "        # I will make this part later :-)\n",
    "    elif host_reward == \"other\":\n",
    "        # I will make this part later :-)\n",
    "    else:\n",
    "         host_reward = input(\"Invalid reward type, please select from discount, gift, or other?\".lower() \n",
    "    more_rewards = input(\"Would you like to add another reward? Type 'yes' to continue or 'no' to finish:\\n\").lower()\n",
    "    if more_rewards == \"no\":\n",
    "            break\n",
    "print(\"Your successfully registered for hosting a research survey!\")\n",
    "print(host)    "
   ]
  },
  {
   "cell_type": "code",
   "execution_count": null,
   "id": "5c55e3b4-394c-46eb-9495-1e92be00c338",
   "metadata": {},
   "outputs": [],
   "source": [
    "# Filter search bar, I took below filter template from your DIY dashboard and will edit it later \n",
    "# filters={\"stratum\" : None, # Smallest subgroup a metric can be broken down into e.g. ethnicity, testing pillar\n",
    "#          \"age\": None, # Smallest subgroup a metric can be broken down into e.g. 15_44 for the age group of 15-44 years\n",
    "#          \"sex\": None, #  Patient gender e.g. 'm' for Male, 'f' for Female or 'all' for all genders\n",
    "#          \"year\": None, #  Epi year of the metrics value (important for annual metrics) e.g. 2020\n",
    "#          \"month\": None, # Epi month of the metric value (important for monthly metrics) e.g. 12\n",
    "#          \"epiweek\" :None, # Epi week of the metric value (important for weekly metrics) e.g. 30\n",
    "#          \"date\" : None, # The date which this metric value was recorded in the format YYYY-MM-DD e.g. 2020-07-20\n",
    "#          \"metric_value\": None, # Metric value call\n",
    "#          \"in_reporting_delay_period\": None # Boolean indicating whether the data point is considered to be subject to retrospective updates\n",
    "#         }"
   ]
  },
  {
   "cell_type": "code",
   "execution_count": null,
   "id": "948c333a-669c-42a2-8918-ddb4e641f2bd",
   "metadata": {},
   "outputs": [],
   "source": [
    "# Reward system\n",
    "# I will back to make a progress later"
   ]
  },
  {
   "cell_type": "code",
   "execution_count": null,
   "id": "d583247d-9869-4926-a8a6-219ade6c1e21",
   "metadata": {},
   "outputs": [],
   "source": [
    "# Taking survey\n",
    "# I will back to make a progress later"
   ]
  },
  {
   "cell_type": "code",
   "execution_count": null,
   "id": "e0597e4c-3e81-4567-9f0b-eca7441d6dfb",
   "metadata": {},
   "outputs": [],
   "source": [
    "# Machine Learning enhancing matching system for suitable research target\n",
    "# This is the main part of project, which I aim to using machine learning \n",
    "#   to enhance matching process between research survey and target group precisely"
   ]
  }
 ],
 "metadata": {
  "kernelspec": {
   "display_name": "Python 3 (ipykernel)",
   "language": "python",
   "name": "python3"
  },
  "language_info": {
   "codemirror_mode": {
    "name": "ipython",
    "version": 3
   },
   "file_extension": ".py",
   "mimetype": "text/x-python",
   "name": "python",
   "nbconvert_exporter": "python",
   "pygments_lexer": "ipython3",
   "version": "3.11.9"
  }
 },
 "nbformat": 4,
 "nbformat_minor": 5
}
